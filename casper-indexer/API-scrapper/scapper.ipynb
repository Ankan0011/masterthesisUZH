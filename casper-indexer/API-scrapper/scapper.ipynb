{
 "cells": [
  {
   "cell_type": "code",
   "execution_count": 1,
   "metadata": {},
   "outputs": [],
   "source": [
    "# Import all the libraries\n",
    "import requests\n",
    "import pandas as pd"
   ]
  },
  {
   "cell_type": "code",
   "execution_count": 2,
   "metadata": {},
   "outputs": [
    {
     "data": {
      "text/plain": [
       "{'data': [{'blockHash': '83fea5cca59305e39a9bc61e1a1425e6051205b6aa8f51f2c528890b61d3bcd2',\n",
       "   'parentHash': '14b36f601c504c3e513c27c3a89c42bb93bf11f2f34e1c851eef6a69e1892e22',\n",
       "   'timestamp': '2022-10-27T14:22:49.000Z',\n",
       "   'eraId': 6886,\n",
       "   'proposer': '012bac1d0ff9240ff0b7b06d555815640497861619ca12583ddef434885416e69b',\n",
       "   'state': '5025389bae47d08554848299c01b64bc3ca57c7704894a4a3678ff3201273659',\n",
       "   'deployCount': 0,\n",
       "   'transferCount': 0,\n",
       "   'height': 1215216,\n",
       "   'blockHeight': 1215216}],\n",
       " 'pageCount': 1215218,\n",
       " 'itemCount': 1215218,\n",
       " 'pages': [{'number': 1, 'url': '/blocks?page=1&limit=1'},\n",
       "  {'number': 2, 'url': '/blocks?page=2&limit=1'},\n",
       "  {'number': 3, 'url': '/blocks?page=3&limit=1'}]}"
      ]
     },
     "execution_count": 2,
     "metadata": {},
     "output_type": "execute_result"
    }
   ],
   "source": [
    "response = requests.get(\"https://api.cspr.live/blocks?page=2&limit=1\").json()\n",
    "response"
   ]
  },
  {
   "cell_type": "code",
   "execution_count": null,
   "metadata": {},
   "outputs": [],
   "source": []
  }
 ],
 "metadata": {
  "kernelspec": {
   "display_name": "Python 3.8.10 64-bit",
   "language": "python",
   "name": "python3"
  },
  "language_info": {
   "codemirror_mode": {
    "name": "ipython",
    "version": 3
   },
   "file_extension": ".py",
   "mimetype": "text/x-python",
   "name": "python",
   "nbconvert_exporter": "python",
   "pygments_lexer": "ipython3",
   "version": "3.8.10"
  },
  "orig_nbformat": 4,
  "vscode": {
   "interpreter": {
    "hash": "31f2aee4e71d21fbe5cf8b01ff0e069b9275f58929596ceb00d14d90e3e16cd6"
   }
  }
 },
 "nbformat": 4,
 "nbformat_minor": 2
}
