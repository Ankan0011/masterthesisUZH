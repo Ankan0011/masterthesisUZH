{
 "cells": [
  {
   "cell_type": "code",
   "execution_count": 1,
   "metadata": {},
   "outputs": [],
   "source": [
    "# This is query for the Miners Distance template\n",
    "import pandas as pd\n",
    "import glob\n",
    "import matplotlib.pyplot as plt"
   ]
  },
  {
   "cell_type": "code",
   "execution_count": 2,
   "metadata": {},
   "outputs": [],
   "source": [
    "# Path for all the results\n",
    "path=\"/mnt/indexer-build/migrated_data/casper_data/curated/miner_dist\""
   ]
  },
  {
   "cell_type": "code",
   "execution_count": 3,
   "metadata": {},
   "outputs": [],
   "source": [
    "def extractorYear(year):\n",
    "    return(int(str(year)[:4]))\n",
    "\n",
    "def extractorWeek(year):\n",
    "    return(int(str(year)[4:]))"
   ]
  },
  {
   "cell_type": "code",
   "execution_count": 4,
   "metadata": {},
   "outputs": [],
   "source": [
    "all_files = glob.glob(path + \"/*.csv\")\n",
    "\n",
    "li = []\n",
    "\n",
    "for filename in all_files:\n",
    "    df = pd.read_csv(filename, index_col=None, header=0)\n",
    "    li.append(df)\n",
    "\n",
    "frame = pd.concat(li, axis=0, ignore_index=True)"
   ]
  },
  {
   "cell_type": "code",
   "execution_count": 5,
   "metadata": {},
   "outputs": [
    {
     "data": {
      "text/html": [
       "<div>\n",
       "<style scoped>\n",
       "    .dataframe tbody tr th:only-of-type {\n",
       "        vertical-align: middle;\n",
       "    }\n",
       "\n",
       "    .dataframe tbody tr th {\n",
       "        vertical-align: top;\n",
       "    }\n",
       "\n",
       "    .dataframe thead th {\n",
       "        text-align: right;\n",
       "    }\n",
       "</style>\n",
       "<table border=\"1\" class=\"dataframe\">\n",
       "  <thead>\n",
       "    <tr style=\"text-align: right;\">\n",
       "      <th></th>\n",
       "      <th>id</th>\n",
       "      <th>distances</th>\n",
       "      <th>year_week</th>\n",
       "      <th>norm_balance</th>\n",
       "    </tr>\n",
       "  </thead>\n",
       "  <tbody>\n",
       "    <tr>\n",
       "      <th>0</th>\n",
       "      <td>0167e08c3b05017d329444dc7d22518ba652cecb2c5466...</td>\n",
       "      <td>0</td>\n",
       "      <td>202138</td>\n",
       "      <td>1.250346e-05</td>\n",
       "    </tr>\n",
       "    <tr>\n",
       "      <th>1</th>\n",
       "      <td>0119836d53dad3dcbedf4bdbe40d5faeb1a37fd43b7bcd...</td>\n",
       "      <td>1</td>\n",
       "      <td>202138</td>\n",
       "      <td>1.962741e-04</td>\n",
       "    </tr>\n",
       "    <tr>\n",
       "      <th>2</th>\n",
       "      <td>013725fe8df379be1e1cc8c571fc4d21b584dc8bb12600...</td>\n",
       "      <td>0</td>\n",
       "      <td>202131</td>\n",
       "      <td>6.049990e-07</td>\n",
       "    </tr>\n",
       "    <tr>\n",
       "      <th>3</th>\n",
       "      <td>020233860b2c5d9d24cce3135a23d1583df91b839efb2b...</td>\n",
       "      <td>1</td>\n",
       "      <td>202131</td>\n",
       "      <td>5.493116e-06</td>\n",
       "    </tr>\n",
       "    <tr>\n",
       "      <th>4</th>\n",
       "      <td>01efd971ab7557b0e8e87f9c6627c3de1ba5ebc4e593ce...</td>\n",
       "      <td>2</td>\n",
       "      <td>202132</td>\n",
       "      <td>0.000000e+00</td>\n",
       "    </tr>\n",
       "    <tr>\n",
       "      <th>5</th>\n",
       "      <td>0121466731d568f837588db2a299f8c2e758ed87432505...</td>\n",
       "      <td>4</td>\n",
       "      <td>202132</td>\n",
       "      <td>1.136706e-07</td>\n",
       "    </tr>\n",
       "    <tr>\n",
       "      <th>6</th>\n",
       "      <td>01e20851f8ed42699919378fb6fd6c2ad1709c8b081da8...</td>\n",
       "      <td>2</td>\n",
       "      <td>202132</td>\n",
       "      <td>0.000000e+00</td>\n",
       "    </tr>\n",
       "    <tr>\n",
       "      <th>7</th>\n",
       "      <td>012a866d7d5471f3c8d4f1820b7ee23d9275dc104b276c...</td>\n",
       "      <td>4</td>\n",
       "      <td>202132</td>\n",
       "      <td>0.000000e+00</td>\n",
       "    </tr>\n",
       "  </tbody>\n",
       "</table>\n",
       "</div>"
      ],
      "text/plain": [
       "                                                  id  distances  year_week  \\\n",
       "0  0167e08c3b05017d329444dc7d22518ba652cecb2c5466...          0     202138   \n",
       "1  0119836d53dad3dcbedf4bdbe40d5faeb1a37fd43b7bcd...          1     202138   \n",
       "2  013725fe8df379be1e1cc8c571fc4d21b584dc8bb12600...          0     202131   \n",
       "3  020233860b2c5d9d24cce3135a23d1583df91b839efb2b...          1     202131   \n",
       "4  01efd971ab7557b0e8e87f9c6627c3de1ba5ebc4e593ce...          2     202132   \n",
       "5  0121466731d568f837588db2a299f8c2e758ed87432505...          4     202132   \n",
       "6  01e20851f8ed42699919378fb6fd6c2ad1709c8b081da8...          2     202132   \n",
       "7  012a866d7d5471f3c8d4f1820b7ee23d9275dc104b276c...          4     202132   \n",
       "\n",
       "   norm_balance  \n",
       "0  1.250346e-05  \n",
       "1  1.962741e-04  \n",
       "2  6.049990e-07  \n",
       "3  5.493116e-06  \n",
       "4  0.000000e+00  \n",
       "5  1.136706e-07  \n",
       "6  0.000000e+00  \n",
       "7  0.000000e+00  "
      ]
     },
     "execution_count": 5,
     "metadata": {},
     "output_type": "execute_result"
    }
   ],
   "source": [
    "frame.iloc[0:8,:]"
   ]
  },
  {
   "cell_type": "code",
   "execution_count": 6,
   "metadata": {},
   "outputs": [],
   "source": [
    "start = 0\n",
    "end = 8 \n",
    "\n",
    "mean = frame.groupby('distances')['norm_balance'].mean()[start:end]\n",
    "std = frame.groupby('distances')['norm_balance'].std()[start:end]\n",
    "p025 = frame.groupby('distances')['norm_balance'].quantile(0.025)[start:end]\n",
    "p975 = frame.groupby('distances')['norm_balance'].quantile(0.975)[start:end]"
   ]
  },
  {
   "cell_type": "code",
   "execution_count": 11,
   "metadata": {},
   "outputs": [
    {
     "data": {
      "image/png": "[encoded data removed]",
      "text/plain": [
       "<Figure size 640x480 with 1 Axes>"
      ]
     },
     "metadata": {},
     "output_type": "display_data"
    },
    {
     "data": {
      "text/plain": [
       "<Figure size 1200x700 with 0 Axes>"
      ]
     },
     "metadata": {},
     "output_type": "display_data"
    }
   ],
   "source": [
    "from cmath import log\n",
    "import numpy as np\n",
    "\n",
    "plt.errorbar(\n",
    "    mean.index,\n",
    "    mean,\n",
    "    xerr=0.1,\n",
    "    # yerr= [mean - p025, p975 - mean],\n",
    "    # yerr=[np.log(1+(mean-p025)), np.log(1+(p975-mean))],\n",
    "    yerr = std*2,\n",
    "    linestyle='',\n",
    ")\n",
    "plt.ylim([0.1,-0.1])\n",
    "plt.xlabel(\"Distance from nearest miner\")\n",
    "plt.ylabel(\"Wealth Share\")\n",
    "plt.figure(figsize=(12,7))\n",
    "plt.show()\n"
   ]
  }
 ],
 "metadata": {
  "kernelspec": {
   "display_name": "Python 3.8.10 64-bit",
   "language": "python",
   "name": "python3"
  },
  "language_info": {
   "codemirror_mode": {
    "name": "ipython",
    "version": 3
   },
   "file_extension": ".py",
   "mimetype": "text/x-python",
   "name": "python",
   "nbconvert_exporter": "python",
   "pygments_lexer": "ipython3",
   "version": "3.8.10"
  },
  "orig_nbformat": 4,
  "vscode": {
   "interpreter": {
    "hash": "31f2aee4e71d21fbe5cf8b01ff0e069b9275f58929596ceb00d14d90e3e16cd6"
   }
  }
 },
 "nbformat": 4,
 "nbformat_minor": 2
}
