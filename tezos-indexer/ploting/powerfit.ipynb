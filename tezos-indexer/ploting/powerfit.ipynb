{
 "cells": [
  {
   "cell_type": "code",
   "execution_count": 1,
   "metadata": {},
   "outputs": [],
   "source": [
    "# This is query for the Assortative Coefficient template\n",
    "import pandas as pd\n",
    "import glob\n",
    "import matplotlib.pyplot as plt"
   ]
  },
  {
   "cell_type": "code",
   "execution_count": 2,
   "metadata": {},
   "outputs": [],
   "source": [
    "# Path for all the results\n",
    "path=\"/mnt/indexer-build/migrated_data/curated/powerlaw/\"\n",
    "path_casper=\"/mnt/indexer-build/migrated_data/casper_data/curated/powerlaw/\""
   ]
  },
  {
   "cell_type": "code",
   "execution_count": 3,
   "metadata": {},
   "outputs": [],
   "source": [
    "def extractorYear(year):\n",
    "    return(int(str(year)[:4]))\n",
    "\n",
    "def extractorWeek(year):\n",
    "    return(int(str(year)[4:]))"
   ]
  },
  {
   "cell_type": "code",
   "execution_count": 4,
   "metadata": {},
   "outputs": [],
   "source": [
    "all_files = glob.glob(path + \"/*/*.csv\")\n",
    "all_files_casper = glob.glob(path_casper + \"/*/*.csv\")\n",
    "\n",
    "li = []\n",
    "li_casper = []\n",
    "\n",
    "for filename in all_files:\n",
    "    df = pd.read_csv(filename, index_col=None, header=0)\n",
    "    li.append(df)\n",
    "\n",
    "for filename in all_files_casper:\n",
    "    df_one = pd.read_csv(filename, index_col=None, header=0)\n",
    "    li_casper.append(df_one)\n",
    "\n",
    "frame = pd.concat(li, axis=0, ignore_index=True)\n",
    "frame_casper = pd.concat(li_casper, axis=0, ignore_index=True)"
   ]
  },
  {
   "cell_type": "code",
   "execution_count": 5,
   "metadata": {},
   "outputs": [],
   "source": [
    "frame_casper[\"year\"]=frame_casper.time_week.apply(extractorYear)\n",
    "frame_casper[\"week\"]=frame_casper.time_week.apply(extractorWeek)\n",
    "final2 = frame_casper.sort_values(by=['year','week'])"
   ]
  },
  {
   "cell_type": "code",
   "execution_count": 6,
   "metadata": {},
   "outputs": [],
   "source": [
    "frame[\"year\"]=frame.time_week.apply(extractorYear)\n",
    "frame[\"week\"]=frame.time_week.apply(extractorWeek)\n",
    "final1 = frame.sort_values(by=['year','week'])"
   ]
  },
  {
   "cell_type": "code",
   "execution_count": 7,
   "metadata": {},
   "outputs": [
    {
     "data": {
      "text/html": [
       "<div>\n",
       "<style scoped>\n",
       "    .dataframe tbody tr th:only-of-type {\n",
       "        vertical-align: middle;\n",
       "    }\n",
       "\n",
       "    .dataframe tbody tr th {\n",
       "        vertical-align: top;\n",
       "    }\n",
       "\n",
       "    .dataframe thead th {\n",
       "        text-align: right;\n",
       "    }\n",
       "</style>\n",
       "<table border=\"1\" class=\"dataframe\">\n",
       "  <thead>\n",
       "    <tr style=\"text-align: right;\">\n",
       "      <th></th>\n",
       "      <th>powerlaw_alpha</th>\n",
       "      <th>time_week</th>\n",
       "      <th>year</th>\n",
       "      <th>week</th>\n",
       "    </tr>\n",
       "  </thead>\n",
       "  <tbody>\n",
       "    <tr>\n",
       "      <th>164</th>\n",
       "      <td>1.599114</td>\n",
       "      <td>20181</td>\n",
       "      <td>2018</td>\n",
       "      <td>1</td>\n",
       "    </tr>\n",
       "    <tr>\n",
       "      <th>145</th>\n",
       "      <td>2.545612</td>\n",
       "      <td>202252</td>\n",
       "      <td>2022</td>\n",
       "      <td>52</td>\n",
       "    </tr>\n",
       "  </tbody>\n",
       "</table>\n",
       "</div>"
      ],
      "text/plain": [
       "     powerlaw_alpha time_week  year  week\n",
       "164        1.599114     20181  2018     1\n",
       "145        2.545612    202252  2022    52"
      ]
     },
     "execution_count": 7,
     "metadata": {},
     "output_type": "execute_result"
    }
   ],
   "source": [
    "extra = final1[((final1.year == 2018) & (final1.week < 26)) | ((final1.year == 2022) & (final1.week > 34))]\n",
    "extra"
   ]
  },
  {
   "cell_type": "code",
   "execution_count": 8,
   "metadata": {},
   "outputs": [
    {
     "data": {
      "text/html": [
       "<div>\n",
       "<style scoped>\n",
       "    .dataframe tbody tr th:only-of-type {\n",
       "        vertical-align: middle;\n",
       "    }\n",
       "\n",
       "    .dataframe tbody tr th {\n",
       "        vertical-align: top;\n",
       "    }\n",
       "\n",
       "    .dataframe thead th {\n",
       "        text-align: right;\n",
       "    }\n",
       "</style>\n",
       "<table border=\"1\" class=\"dataframe\">\n",
       "  <thead>\n",
       "    <tr style=\"text-align: right;\">\n",
       "      <th></th>\n",
       "      <th>powerlaw_alpha</th>\n",
       "      <th>time_week</th>\n",
       "      <th>year</th>\n",
       "      <th>week</th>\n",
       "    </tr>\n",
       "  </thead>\n",
       "  <tbody>\n",
       "    <tr>\n",
       "      <th>35</th>\n",
       "      <td>3.468716</td>\n",
       "      <td>202235</td>\n",
       "      <td>2022</td>\n",
       "      <td>35</td>\n",
       "    </tr>\n",
       "    <tr>\n",
       "      <th>1</th>\n",
       "      <td>1.597590</td>\n",
       "      <td>202236</td>\n",
       "      <td>2022</td>\n",
       "      <td>36</td>\n",
       "    </tr>\n",
       "    <tr>\n",
       "      <th>60</th>\n",
       "      <td>1.597179</td>\n",
       "      <td>202237</td>\n",
       "      <td>2022</td>\n",
       "      <td>37</td>\n",
       "    </tr>\n",
       "    <tr>\n",
       "      <th>30</th>\n",
       "      <td>1.907149</td>\n",
       "      <td>202238</td>\n",
       "      <td>2022</td>\n",
       "      <td>38</td>\n",
       "    </tr>\n",
       "    <tr>\n",
       "      <th>53</th>\n",
       "      <td>1.621126</td>\n",
       "      <td>202239</td>\n",
       "      <td>2022</td>\n",
       "      <td>39</td>\n",
       "    </tr>\n",
       "    <tr>\n",
       "      <th>22</th>\n",
       "      <td>1.550844</td>\n",
       "      <td>202240</td>\n",
       "      <td>2022</td>\n",
       "      <td>40</td>\n",
       "    </tr>\n",
       "    <tr>\n",
       "      <th>8</th>\n",
       "      <td>1.513420</td>\n",
       "      <td>202241</td>\n",
       "      <td>2022</td>\n",
       "      <td>41</td>\n",
       "    </tr>\n",
       "    <tr>\n",
       "      <th>50</th>\n",
       "      <td>1.644487</td>\n",
       "      <td>202242</td>\n",
       "      <td>2022</td>\n",
       "      <td>42</td>\n",
       "    </tr>\n",
       "    <tr>\n",
       "      <th>23</th>\n",
       "      <td>2.534059</td>\n",
       "      <td>202243</td>\n",
       "      <td>2022</td>\n",
       "      <td>43</td>\n",
       "    </tr>\n",
       "    <tr>\n",
       "      <th>18</th>\n",
       "      <td>2.120405</td>\n",
       "      <td>202252</td>\n",
       "      <td>2022</td>\n",
       "      <td>52</td>\n",
       "    </tr>\n",
       "  </tbody>\n",
       "</table>\n",
       "</div>"
      ],
      "text/plain": [
       "    powerlaw_alpha time_week  year  week\n",
       "35        3.468716    202235  2022    35\n",
       "1         1.597590    202236  2022    36\n",
       "60        1.597179    202237  2022    37\n",
       "30        1.907149    202238  2022    38\n",
       "53        1.621126    202239  2022    39\n",
       "22        1.550844    202240  2022    40\n",
       "8         1.513420    202241  2022    41\n",
       "50        1.644487    202242  2022    42\n",
       "23        2.534059    202243  2022    43\n",
       "18        2.120405    202252  2022    52"
      ]
     },
     "execution_count": 8,
     "metadata": {},
     "output_type": "execute_result"
    }
   ],
   "source": [
    "extra2 = final2[((final2.year == 2018) & (final2.week < 26)) | ((final2.year == 2022) & (final2.week > 34))]\n",
    "extra2"
   ]
  },
  {
   "cell_type": "code",
   "execution_count": 9,
   "metadata": {},
   "outputs": [],
   "source": [
    "df = pd.merge(final1, extra, indicator=True, how='outer').query('_merge==\"left_only\"').drop('_merge', axis=1)\n",
    "df2 = pd.merge(final2, extra2, indicator=True, how='outer').query('_merge==\"left_only\"').drop('_merge', axis=1)"
   ]
  },
  {
   "cell_type": "code",
   "execution_count": 10,
   "metadata": {},
   "outputs": [
    {
     "name": "stdout",
     "output_type": "stream",
     "text": [
      "Min Alpha value :1.4223570639487677\n",
      "Max Alpha value :4.933259278056895\n",
      "1. Quatile Alpha value :1.7277326363100978\n",
      "3. Quatile Alpha value :1.9845390056496732\n",
      "Median Alpha value :2.2201011239074497\n"
     ]
    }
   ],
   "source": [
    "print(\"Min Alpha value :\"+str(df['powerlaw_alpha'].min()))\n",
    "print(\"Max Alpha value :\"+str(df['powerlaw_alpha'].max()))\n",
    "print(\"1. Quatile Alpha value :\"+str(df['powerlaw_alpha'].quantile(.1)))\n",
    "print(\"3. Quatile Alpha value :\"+str(df['powerlaw_alpha'].quantile(.3)))\n",
    "print(\"Median Alpha value :\"+str(df['powerlaw_alpha'].median()))"
   ]
  },
  {
   "cell_type": "code",
   "execution_count": 11,
   "metadata": {},
   "outputs": [
    {
     "name": "stdout",
     "output_type": "stream",
     "text": [
      "Min Alpha value :1.4884835946566124\n",
      "Max Alpha value :6.5932319112416575\n",
      "1. Quatile Alpha value :1.5301700234943583\n",
      "3. Quatile Alpha value :1.6362214304045568\n",
      "Median Alpha value :1.731431891644274\n"
     ]
    }
   ],
   "source": [
    "print(\"Min Alpha value :\"+str(df2['powerlaw_alpha'].min()))\n",
    "print(\"Max Alpha value :\"+str(df2['powerlaw_alpha'].max()))\n",
    "print(\"1. Quatile Alpha value :\"+str(df2['powerlaw_alpha'].quantile(.1)))\n",
    "print(\"3. Quatile Alpha value :\"+str(df2['powerlaw_alpha'].quantile(.3)))\n",
    "print(\"Median Alpha value :\"+str(df2['powerlaw_alpha'].median()))"
   ]
  },
  {
   "cell_type": "code",
   "execution_count": null,
   "metadata": {},
   "outputs": [],
   "source": []
  }
 ],
 "metadata": {
  "kernelspec": {
   "display_name": "Python 3.9.6 64-bit",
   "language": "python",
   "name": "python3"
  },
  "language_info": {
   "codemirror_mode": {
    "name": "ipython",
    "version": 3
   },
   "file_extension": ".py",
   "mimetype": "text/x-python",
   "name": "python",
   "nbconvert_exporter": "python",
   "pygments_lexer": "ipython3",
   "version": "3.8.10"
  },
  "orig_nbformat": 4,
  "vscode": {
   "interpreter": {
    "hash": "31f2aee4e71d21fbe5cf8b01ff0e069b9275f58929596ceb00d14d90e3e16cd6"
   }
  }
 },
 "nbformat": 4,
 "nbformat_minor": 2
}
